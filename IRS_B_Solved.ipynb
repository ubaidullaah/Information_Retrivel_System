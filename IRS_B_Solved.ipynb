{
 "cells": [
  {
   "cell_type": "markdown",
   "metadata": {},
   "source": [
    "# Assignment 2 IRS - With Synonyms"
   ]
  },
  {
   "cell_type": "markdown",
   "metadata": {},
   "source": [
    "Information retrieval is the process of obtaining information system resources that are relevant to an information need from a collection of those resources. The core purpose of this assignment is to give you the flavor of IRS. You need to follow some steps listed below and in the end, you'll be able to build your own small IRS. So, let's start."
   ]
  },
  {
   "cell_type": "code",
   "execution_count": 1,
   "metadata": {},
   "outputs": [],
   "source": [
    "# required imports\n",
    "import numpy as np\n",
    "import fnmatch\n",
    "import os\n",
    "import re\n"
   ]
  },
  {
   "cell_type": "markdown",
   "metadata": {},
   "source": [
    "Suppose we have 3 files containing data :"
   ]
  },
  {
   "cell_type": "markdown",
   "metadata": {},
   "source": [
    "### File Contents"
   ]
  },
  {
   "cell_type": "markdown",
   "metadata": {},
   "source": [
    "![\"This is my book\" - File 1](https://github.com/ahmad-14a/CS-F20-ML/blob/main/IRS-Assignment%201/f1.png?raw=true)\n",
    "![\"This is my pen\" - File 1](https://github.com/ahmad-14a/CS-F20-ML/blob/main/IRS-Assignment%201/f2.png?raw=true)\n",
    "![\"This is book is intersting\" - File 1](https://github.com/ahmad-14a/CS-F20-ML/blob/main/IRS-Assignment%201/f3.png?raw=true)"
   ]
  },
  {
   "cell_type": "markdown",
   "metadata": {},
   "source": [
    "# Step 1 Create Files with Dummy data"
   ]
  },
  {
   "cell_type": "markdown",
   "metadata": {},
   "source": [
    "You have to create few files with dummy data of your own choice as shown above."
   ]
  },
  {
   "cell_type": "markdown",
   "metadata": {},
   "source": [
    "# Step 2 Traverse Directories"
   ]
  },
  {
   "cell_type": "markdown",
   "metadata": {},
   "source": [
    " Now, You have to traverse the directories and store all the files into a dict type variable(files_dict). "
   ]
  },
  {
   "cell_type": "code",
   "execution_count": 2,
   "metadata": {},
   "outputs": [],
   "source": [
    "# Here we have initialized some variables, you can add more if required.\n",
    "\n",
    "file_count = 0             # file_count to count number of files\n",
    "files_dict = {}            # files_dic to store count of every file    \n",
    "unique_word_set = set()    # unique_word_set to store all the unique words in a set\n"
   ]
  },
  {
   "cell_type": "code",
   "execution_count": 3,
   "metadata": {},
   "outputs": [
    {
     "name": "stdout",
     "output_type": "stream",
     "text": [
      "{'t1.txt': {'count': 1, 'content': 'I am student\\n'}, 't2.txt': {'count': 2, 'content': 'I am going there'}, 't3.txt': {'count': 3, 'content': 'He is interesting'}}\n"
     ]
    }
   ],
   "source": [
    "#Your code starts here   \n",
    "directory_path = r'C:\\A fifth Semester Notes\\Machine Learning\\Assignmnet 2 - IRS\\Assignmnet 2 - IRS\\nfiles'\n",
    "file_count = 0\n",
    "\n",
    "for f in os.listdir(directory_path):\n",
    "    if f.endswith(\".txt\"):\n",
    "        file_count += 1\n",
    "        file_path = os.path.join(directory_path, f)\n",
    "        \n",
    "        with open(file_path, 'r') as file:\n",
    "            content = file.read()\n",
    "            \n",
    "            files_dict[f] = {\n",
    "                'count': file_count,\n",
    "                'content': content\n",
    "            }\n",
    "            \n",
    "print(files_dict)\n",
    "\n",
    "\n",
    "#Your code ends here       "
   ]
  },
  {
   "cell_type": "markdown",
   "metadata": {},
   "source": [
    "Displaying the count of files."
   ]
  },
  {
   "cell_type": "code",
   "execution_count": 4,
   "metadata": {},
   "outputs": [
    {
     "name": "stdout",
     "output_type": "stream",
     "text": [
      "\n",
      "Total Number  of files\n",
      " 3\n"
     ]
    }
   ],
   "source": [
    "print(\"\\nTotal Number  of files\\n\", file_count)"
   ]
  },
  {
   "cell_type": "markdown",
   "metadata": {},
   "source": [
    "Displaying Dictionary containing all files."
   ]
  },
  {
   "cell_type": "code",
   "execution_count": 5,
   "metadata": {},
   "outputs": [
    {
     "name": "stdout",
     "output_type": "stream",
     "text": [
      "\n",
      "Dictionary containing  files\n",
      " {'t1.txt': {'count': 1, 'content': 'I am student\\n'}, 't2.txt': {'count': 2, 'content': 'I am going there'}, 't3.txt': {'count': 3, 'content': 'He is interesting'}}\n"
     ]
    }
   ],
   "source": [
    "print(\"\\nDictionary containing  files\\n\", files_dict)"
   ]
  },
  {
   "cell_type": "markdown",
   "metadata": {},
   "source": [
    "# Step 3 Extract Unique Vocabulary"
   ]
  },
  {
   "cell_type": "markdown",
   "metadata": {},
   "source": [
    "write code to print all the unique words in every file and store them in a set"
   ]
  },
  {
   "cell_type": "code",
   "execution_count": 6,
   "metadata": {},
   "outputs": [
    {
     "name": "stdout",
     "output_type": "stream",
     "text": [
      "Unique Words in every file\n",
      "{'going', 'is', 'he', 'there', 'i', 'interesting', 'student', 'am'}\n"
     ]
    }
   ],
   "source": [
    "#Your code starts here    \n",
    "for f in os.listdir(directory_path):\n",
    "    if f.endswith(\".txt\"):\n",
    "        file_path = os.path.join(directory_path, f)\n",
    "        \n",
    "        with open(file_path, 'r') as file:\n",
    "            content = file.read()\n",
    "            \n",
    "            words = [word.lower() for word in content.split() if word.isalpha()]\n",
    "\n",
    "            unique_word_set.update(set(words))\n",
    "\n",
    "print(f'Unique Words in every file\\n{unique_word_set}')\n",
    "#Your code ends here\n"
   ]
  },
  {
   "cell_type": "markdown",
   "metadata": {},
   "source": [
    "### Expected Output"
   ]
  },
  {
   "cell_type": "markdown",
   "metadata": {},
   "source": [
    "![\"Expected Output of unique words\" - File 1](https://github.com/ahmad-14a/CS-F20-ML/blob/main/IRS-Assignment%201/o1.png?raw=true)\n"
   ]
  },
  {
   "cell_type": "markdown",
   "metadata": {},
   "source": [
    "# Step 4 Create Term Document Matrix"
   ]
  },
  {
   "cell_type": "markdown",
   "metadata": {},
   "source": [
    "Create Term-Doc-matrix using Bag of word approach.and display its contents initially and finally."
   ]
  },
  {
   "cell_type": "markdown",
   "metadata": {},
   "source": [
    "1. Create Term doc matrix such that colmns will be unique words and all the files will be rows\n",
    "2. Write code to count all the unique words appearances in all the files and store it in a dictionary for words "
   ]
  },
  {
   "cell_type": "code",
   "execution_count": 7,
   "metadata": {},
   "outputs": [
    {
     "name": "stdout",
     "output_type": "stream",
     "text": [
      "[[0, 0, 0, 0, 0, 0, 0, 0], [0, 0, 0, 0, 0, 0, 0, 0], [0, 0, 0, 0, 0, 0, 0, 0]]\n",
      " Dictionary of Unique words:\n",
      "{'going': 0, 'is': 1, 'he': 2, 'there': 3, 'i': 4, 'interesting': 5, 'student': 6, 'am': 7}\n",
      "Dictionary of files:\n",
      "{'t1.txt': 0, 't2.txt': 1, 't3.txt': 2}\n"
     ]
    }
   ],
   "source": [
    "#Your code starts here    \n",
    "term_doc_matrix = []\n",
    "\n",
    "\n",
    "term_doc_matrix = [[0] * len(unique_word_set) for _ in range(len(os.listdir(directory_path)))]\n",
    "\n",
    "print(term_doc_matrix)\n",
    "\n",
    "unique_words_dict = {word: index for index, word in enumerate(unique_word_set)}\n",
    "\n",
    "print(\" Dictionary of Unique words:\")\n",
    "print(unique_words_dict)\n",
    "import os\n",
    "\n",
    "files_dict = {file: index for index, file in enumerate(os.listdir(directory_path)) if file.endswith(\".txt\")}\n",
    "\n",
    "print(\"Dictionary of files:\")\n",
    "print(files_dict)\n",
    "\n",
    "#Your code ends here\n"
   ]
  },
  {
   "cell_type": "markdown",
   "metadata": {},
   "source": [
    "### Expected Output"
   ]
  },
  {
   "cell_type": "markdown",
   "metadata": {},
   "source": [
    "![\"Expected Output of unique words\" - File 1](https://github.com/ahmad-14a/CS-F20-ML/blob/main/IRS-Assignment%201/o2.png?raw=true)"
   ]
  },
  {
   "cell_type": "markdown",
   "metadata": {},
   "source": [
    "# Step 5 Fill Term Document Matrix"
   ]
  },
  {
   "cell_type": "markdown",
   "metadata": {},
   "source": [
    "1. Fill the term doc matrix by checking if the unique word exists in a file or not\n",
    "2. If it exists then substitute a 1 in term_doc_matrix (eg : TERM_DOC_MATRIX[file][word] = 1 ) \n",
    "3. Do the same for all the files present in the directory"
   ]
  },
  {
   "cell_type": "code",
   "execution_count": 8,
   "metadata": {},
   "outputs": [
    {
     "name": "stdout",
     "output_type": "stream",
     "text": [
      "{'going': 0, 'is': 1, 'he': 2, 'there': 3, 'i': 4, 'interesting': 5, 'student': 6, 'am': 7}\n",
      "\n",
      "\n",
      "[0, 0, 0, 0, 1, 0, 1, 1]\n",
      "[1, 0, 0, 1, 1, 0, 0, 1]\n",
      "[0, 1, 1, 0, 0, 1, 0, 0]\n"
     ]
    }
   ],
   "source": [
    "#Your code starts here    \n",
    "\n",
    "for file_index, filename in enumerate(os.listdir(directory_path)):\n",
    "    if filename.endswith(\".txt\"):\n",
    "        file_path = os.path.join(directory_path, filename)\n",
    "        \n",
    "        with open(file_path, 'r') as file:\n",
    "            content = file.read()\n",
    "            \n",
    "            words = [word.lower() for word in content.split() if word.isalpha()]\n",
    "\n",
    "            \n",
    "            for word in words:\n",
    "                if word in unique_word_set:\n",
    "                    term_doc_matrix[file_index][unique_words_dict[word]] = 1\n",
    "print(unique_words_dict)\n",
    "print('\\n')\n",
    "#print(term_doc_matrix)\n",
    "for row in term_doc_matrix:\n",
    "    print(row)\n",
    "    \n",
    "\n",
    "#Your code ends here"
   ]
  },
  {
   "cell_type": "markdown",
   "metadata": {},
   "source": [
    "### Expected Output"
   ]
  },
  {
   "cell_type": "markdown",
   "metadata": {},
   "source": [
    "![\"Expected Output of unique words\" - File 1](https://github.com/ahmad-14a/CS-F20-ML/blob/main/IRS-Assignment%201/o4.png?raw=true)\n"
   ]
  },
  {
   "cell_type": "markdown",
   "metadata": {},
   "source": [
    "# Step 6 Ask for a user Query"
   ]
  },
  {
   "cell_type": "markdown",
   "metadata": {},
   "source": [
    "For user query make a column vector of length of all the unique words present in a set"
   ]
  },
  {
   "cell_type": "code",
   "execution_count": 9,
   "metadata": {},
   "outputs": [
    {
     "name": "stdout",
     "output_type": "stream",
     "text": [
      "Empty User Query Vector:\n",
      "[[0.]\n",
      " [0.]\n",
      " [0.]\n",
      " [0.]\n",
      " [0.]\n",
      " [0.]\n",
      " [0.]\n",
      " [0.]]\n"
     ]
    }
   ],
   "source": [
    "#Your code starts here    \n",
    "\n",
    "\n",
    "\n",
    "import numpy as np\n",
    "\n",
    "user_query_vector = np.zeros((len(unique_word_set), 1))\n",
    "\n",
    "print(\"Empty User Query Vector:\")\n",
    "print(user_query_vector)\n",
    "\n",
    "#Your code ends here"
   ]
  },
  {
   "cell_type": "markdown",
   "metadata": {},
   "source": [
    "### Expected Output"
   ]
  },
  {
   "cell_type": "markdown",
   "metadata": {},
   "source": [
    "![\"Expected Output of unique words\" - File 1](https://github.com/ahmad-14a/CS-F20-ML/blob/main/IRS-Assignment%201/o5.png?raw=true)\n"
   ]
  },
  {
   "cell_type": "code",
   "execution_count": 10,
   "metadata": {},
   "outputs": [
    {
     "name": "stdout",
     "output_type": "stream",
     "text": [
      "\n",
      "Write something for searching:  he is fascinating\n",
      "Query is: he is fascinating\n"
     ]
    }
   ],
   "source": [
    "query = input(\"\\nWrite something for searching:  \")\n",
    "print(\"Query is:\", query)"
   ]
  },
  {
   "cell_type": "markdown",
   "metadata": {},
   "source": [
    "### Expected Output"
   ]
  },
  {
   "cell_type": "markdown",
   "metadata": {},
   "source": [
    "![Expected Output of query](images/Query.png)"
   ]
  },
  {
   "cell_type": "markdown",
   "metadata": {},
   "source": [
    "# Step 7 Load Synonyms"
   ]
  },
  {
   "cell_type": "code",
   "execution_count": 11,
   "metadata": {},
   "outputs": [
    {
     "name": "stdout",
     "output_type": "stream",
     "text": [
      "\n",
      "Synonyms Dictionary\n",
      "\n"
     ]
    },
    {
     "data": {
      "text/plain": [
       "{'write': ['compose', 'draft', 'author', 'create'],\n",
       " 'file': ['document', 'record', 'dossier', 'report'],\n",
       " 'example': ['illustration', 'instance', 'sample', 'demonstration'],\n",
       " 'query': ['question', 'inquiry', 'search', 'request'],\n",
       " 'synonym': ['equivalent', 'substitute', 'alternate', 'replacement'],\n",
       " 'retrieve': ['fetch', 'recover', 'obtain', 'bring back'],\n",
       " 'system': ['framework', 'structure', 'organization', 'arrangement'],\n",
       " 'search': ['seek', 'look for', 'explore', 'examine'],\n",
       " 'lost': ['misplaced', 'missing', 'forgotten', 'mislaid'],\n",
       " 'pen': ['write', 'ink', 'ballpoint', 'fountain'],\n",
       " 'paper': ['document', 'sheet', 'form', 'letter'],\n",
       " 'book': ['novel', 'volume', 'publication', 'tome'],\n",
       " 'read': ['peruse', 'scan', 'study', 'look at'],\n",
       " 'interesting': ['fascinating', 'engaging', 'intriguing', 'absorbing'],\n",
       " 'computer': ['machine', 'device', 'processor', 'laptop'],\n",
       " 'software': ['program', 'application', 'app', 'platform']}"
      ]
     },
     "execution_count": 11,
     "metadata": {},
     "output_type": "execute_result"
    }
   ],
   "source": [
    "synonym_file_path = r\"C:\\A fifth Semester Notes\\Machine Learning\\Assignmnet 2 - IRS\\Assignmnet 2 - IRS\\files\\synonyms.txt\"\n",
    "synonyms_dict = {} \n",
    "#your code starts here\n",
    "with open(synonym_file_path, 'r') as sf:\n",
    "    for i in sf:\n",
    "        parts = i.strip().split(':')\n",
    "        k = parts[0].strip().lower()\n",
    "        synonyms = [s.strip().lower() for s in parts[1].split(',')]\n",
    "        synonyms_dict[k] = synonyms\n",
    "\n",
    "\n",
    "#your code ends here\n",
    "\n",
    "print(\"\\nSynonyms Dictionary\\n\")\n",
    "synonyms_dict"
   ]
  },
  {
   "cell_type": "markdown",
   "metadata": {},
   "source": [
    "### Expected Output"
   ]
  },
  {
   "cell_type": "markdown",
   "metadata": {},
   "source": [
    "![Synonym Dict Example](images\\Synonym_dict.png)"
   ]
  },
  {
   "cell_type": "markdown",
   "metadata": {},
   "source": [
    "# Step 8 Extend User Query"
   ]
  },
  {
   "cell_type": "code",
   "execution_count": 12,
   "metadata": {},
   "outputs": [
    {
     "name": "stdout",
     "output_type": "stream",
     "text": [
      "Expanded Query\n",
      "['he', 'is', 'fascinating', 'interesting', 'fascinating', 'engaging', 'intriguing', 'absorbing']\n"
     ]
    }
   ],
   "source": [
    "expanded_query = []\n",
    "# Write code to expand the query using synonyms\n",
    "#your code starts here\n",
    "\n",
    "expanded_query = []\n",
    "\n",
    "# your code starts here\n",
    "for word in query.split():\n",
    "    word = word.lower()\n",
    "    expanded_query.append(word)\n",
    "    if word in synonyms_dict:\n",
    "        expanded_query.extend(synonyms_dict[word])\n",
    "    else:\n",
    "        for key, values in synonyms_dict.items():\n",
    "            if word in values:\n",
    "                expanded_query.extend([key] + values)\n",
    "# your code ends here\n",
    "\n",
    "\n",
    "print(\"Expanded Query\")\n",
    "print(expanded_query)"
   ]
  },
  {
   "cell_type": "markdown",
   "metadata": {},
   "source": [
    "### Expected Output"
   ]
  },
  {
   "cell_type": "markdown",
   "metadata": {},
   "source": [
    "![Extended Query](images\\Expanded_Query.png)"
   ]
  },
  {
   "cell_type": "markdown",
   "metadata": {},
   "source": [
    "Now work with extended query and find the relevant documents."
   ]
  },
  {
   "cell_type": "code",
   "execution_count": 13,
   "metadata": {},
   "outputs": [],
   "source": [
    "# Check every word of query if it exists in the set of unique words or not\n",
    "# If exists then increment the count of that word in word dictionary\n"
   ]
  },
  {
   "cell_type": "code",
   "execution_count": 14,
   "metadata": {},
   "outputs": [
    {
     "name": "stdout",
     "output_type": "stream",
     "text": [
      "\n",
      "User Query Vector:\n",
      "[[0.]\n",
      " [1.]\n",
      " [1.]\n",
      " [0.]\n",
      " [0.]\n",
      " [1.]\n",
      " [0.]\n",
      " [0.]]\n"
     ]
    }
   ],
   "source": [
    "#Your code starts here    \n",
    "\n",
    "query_words = [word.lower() for word in expanded_query if word.isalpha()]\n",
    "\n",
    "for word in query_words:\n",
    "    if word in unique_word_set:\n",
    "        user_query_vector[list(unique_word_set).index(word)] += 1\n",
    "# Display the user query vector\n",
    "print(\"\\nUser Query Vector:\")\n",
    "print(user_query_vector)\n",
    "#Your code ends here"
   ]
  },
  {
   "cell_type": "markdown",
   "metadata": {},
   "source": [
    "### Expected Output"
   ]
  },
  {
   "cell_type": "markdown",
   "metadata": {},
   "source": [
    "![\"Expected Output of unique words\" - File 1](https://github.com/ahmad-14a/CS-F20-ML/blob/main/IRS-Assignment%201/o6.png?raw=true)\n"
   ]
  },
  {
   "cell_type": "markdown",
   "metadata": {},
   "source": [
    "# Step 7 Display Resultant Vector"
   ]
  },
  {
   "cell_type": "markdown",
   "metadata": {},
   "source": [
    "Display \n",
    "1. Resultant vector.\n",
    "2. Max value in resultant vector.\n",
    "3. Index of max value in resultant vector.\n"
   ]
  },
  {
   "cell_type": "code",
   "execution_count": 15,
   "metadata": {},
   "outputs": [
    {
     "name": "stdout",
     "output_type": "stream",
     "text": [
      "\n",
      "Result:\n",
      "[[0.]\n",
      " [0.]\n",
      " [3.]]\n",
      "max_index 2\n",
      "Max Value : 3.0\n"
     ]
    }
   ],
   "source": [
    "#Your code starts here  \n",
    "resultant_vector = np.dot(term_doc_matrix, user_query_vector)\n",
    "\n",
    "print(\"\\nResult:\")\n",
    "print(resultant_vector)\n",
    "\n",
    "max_index = np.argmax(resultant_vector)\n",
    "\n",
    "print(\"max_index\", max_index)\n",
    "max_value = np.max(resultant_vector)\n",
    "print(\"Max Value :\", max_value)\n",
    "#Your code ends here\n",
    "\n",
    "\n"
   ]
  },
  {
   "cell_type": "markdown",
   "metadata": {},
   "source": [
    "### Expected Output"
   ]
  },
  {
   "cell_type": "markdown",
   "metadata": {},
   "source": [
    "![\"Expected Output of unique words\" - File 1](https://github.com/ahmad-14a/CS-F20-ML/blob/main/IRS-Assignment%201/o7.png?raw=true)\n"
   ]
  },
  {
   "cell_type": "markdown",
   "metadata": {},
   "source": [
    "# Step 8 Display the contents of file\n"
   ]
  },
  {
   "cell_type": "markdown",
   "metadata": {},
   "source": [
    "Write the code to identify the file_name having maximum value in the resultant vector and display its contents."
   ]
  },
  {
   "cell_type": "code",
   "execution_count": 16,
   "metadata": {},
   "outputs": [
    {
     "name": "stdout",
     "output_type": "stream",
     "text": [
      "\n",
      "Contents of File 't3.txt':\n",
      "\n",
      "He is interesting\n"
     ]
    }
   ],
   "source": [
    "#Your code starts here    \n",
    "\n",
    "max_index = np.argmax(resultant_vector)\n",
    "max_file_name = list(files_dict.keys())[max_index]\n",
    "\n",
    "max_file_path = os.path.join(directory_path, max_file_name)\n",
    "with open(max_file_path, 'r') as m:\n",
    "    max_file_contents = m.read()\n",
    "    print(f\"\\nContents of File '{max_file_name}':\\n\")\n",
    "    print(max_file_contents)\n",
    "\n",
    "#Your code ends here"
   ]
  },
  {
   "cell_type": "markdown",
   "metadata": {},
   "source": [
    "Congratulations Now you are able to build your own small IRS which can work even if query does not have exact same words."
   ]
  },
  {
   "cell_type": "code",
   "execution_count": null,
   "metadata": {},
   "outputs": [],
   "source": []
  }
 ],
 "metadata": {
  "kernelspec": {
   "display_name": "Python 3 (ipykernel)",
   "language": "python",
   "name": "python3"
  },
  "language_info": {
   "codemirror_mode": {
    "name": "ipython",
    "version": 3
   },
   "file_extension": ".py",
   "mimetype": "text/x-python",
   "name": "python",
   "nbconvert_exporter": "python",
   "pygments_lexer": "ipython3",
   "version": "3.9.12"
  }
 },
 "nbformat": 4,
 "nbformat_minor": 4
}
